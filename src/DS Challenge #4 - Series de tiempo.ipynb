{
 "cells": [
  {
   "cell_type": "markdown",
   "id": "b8d848f7-9b46-4123-bb07-184ecc0818d5",
   "metadata": {},
   "source": [
    "# DATA SCIENCE CHALLENGE #4 - SERIES DE TIEMPO"
   ]
  },
  {
   "cell_type": "markdown",
   "id": "ca007ae6-54df-48f8-8e88-e504c57216fa",
   "metadata": {},
   "source": [
    "+ Pronosticar las ventas de un producto o de una categoría es un desafío recurrente para cualquier ecommerce;\n",
    "+ En este caso, el desafío va a ser pronosticar la cantidad de unidades diarias que van a vender 3 categorías distintas de MELI;\n",
    "+ El dataset `series.csv` tiene las ventas en unidades diarias de 3 categorías que poseen un id único y su fecha de venta;\n",
    "+ El objetivo de este desafío es construir un modelo de forecast que permita estimar las ventas de 3 semanas a nivel diario utilizando la historia de ventas de la categoría. Es decir, predecir las ventas de los siguientes 21 días. Las métricas y la medición de la performance del forecast son un punto clave de este desafío."
   ]
  },
  {
   "cell_type": "markdown",
   "id": "06cc5e11-332b-4824-8e66-04e20792f0c7",
   "metadata": {},
   "source": [
    "# Loading modules and functions"
   ]
  },
  {
   "cell_type": "code",
   "execution_count": 2,
   "id": "8dca07cb-2e44-48b8-aa24-f61afe12c075",
   "metadata": {},
   "outputs": [],
   "source": [
    "import pandas as pd"
   ]
  },
  {
   "cell_type": "markdown",
   "id": "7722cb29-608c-4ac0-a144-1e4799a8f10e",
   "metadata": {},
   "source": [
    "## Loading the data"
   ]
  },
  {
   "cell_type": "code",
   "execution_count": 3,
   "id": "6cd021d6-4218-45ce-a229-d8b6422b91a6",
   "metadata": {},
   "outputs": [],
   "source": [
    "df = pd.read_csv(filepath_or_buffer = '../data/series.csv')"
   ]
  },
  {
   "cell_type": "code",
   "execution_count": null,
   "id": "1a3b87f2-1cda-41c9-9d1f-56f15b8fa964",
   "metadata": {},
   "outputs": [],
   "source": []
  }
 ],
 "metadata": {
  "kernelspec": {
   "display_name": "Python 3 (ipykernel)",
   "language": "python",
   "name": "python3"
  },
  "language_info": {
   "codemirror_mode": {
    "name": "ipython",
    "version": 3
   },
   "file_extension": ".py",
   "mimetype": "text/x-python",
   "name": "python",
   "nbconvert_exporter": "python",
   "pygments_lexer": "ipython3",
   "version": "3.10.4"
  }
 },
 "nbformat": 4,
 "nbformat_minor": 5
}
